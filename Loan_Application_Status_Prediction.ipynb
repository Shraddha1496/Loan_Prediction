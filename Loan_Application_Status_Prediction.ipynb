{
  "nbformat": 4,
  "nbformat_minor": 0,
  "metadata": {
    "colab": {
      "name": "Loan Application Status Prediction",
      "provenance": [],
      "collapsed_sections": []
    },
    "kernelspec": {
      "name": "python3",
      "display_name": "Python 3"
    },
    "language_info": {
      "name": "python"
    }
  },
  "cells": [
    {
      "cell_type": "markdown",
      "metadata": {
        "id": "JcmVHa2IhSY7"
      },
      "source": [
        "# **Loan Application Status Prediction**"
      ]
    },
    {
      "cell_type": "markdown",
      "metadata": {
        "id": "ofyXoXsKwris"
      },
      "source": [
        "**Problem Statement:**<br>\n",
        "This dataset includes details of applicants who have applied for loan. The dataset includes details like credit history, loan amount, their income, dependents etc. <br>\n",
        "\n",
        "**Independent Variables:**<br>\n",
        "\n",
        "- Loan_ID\n",
        "\n",
        "- Gender\n",
        "\n",
        "- Married\n",
        "\n",
        "- Dependents\n",
        "\n",
        "- Education\n",
        "\n",
        "- Self_Employed\n",
        "\n",
        "- ApplicantIncome\n",
        "\n",
        "- CoapplicantIncome\n",
        "\n",
        "- Loan_Amount\n",
        "\n",
        "- Loan_Amount_Term\n",
        "\n",
        "- Credit History\n",
        "\n",
        "- Property_Area\n",
        "\n",
        "**Dependent Variable (Target Variable):**\n",
        "\n",
        "- Loan_Status\n",
        "<br>\n",
        "You have to build a model that can predict whether the loan of the applicant will be approved or not on the basis of the details provided in the dataset. "
      ]
    },
    {
      "cell_type": "code",
      "metadata": {
        "id": "_ZIwRrizhZ2h"
      },
      "source": [
        "# import libraries\n",
        "\n",
        "import pandas as pd\n",
        "import numpy as np\n",
        "\n",
        "import warnings\n",
        "warnings.filterwarnings('ignore')"
      ],
      "execution_count": 1,
      "outputs": []
    },
    {
      "cell_type": "code",
      "metadata": {
        "colab": {
          "base_uri": "https://localhost:8080/",
          "height": 241
        },
        "id": "8ohbuBDCxUEu",
        "outputId": "85740127-6afd-41db-b84d-9b0d777aafd6"
      },
      "source": [
        "# import data\n",
        "\n",
        "data = pd.read_csv('/content/sample_data/loan_prediction.csv')\n",
        "data.head()"
      ],
      "execution_count": 2,
      "outputs": [
        {
          "output_type": "execute_result",
          "data": {
            "text/html": [
              "<div>\n",
              "<style scoped>\n",
              "    .dataframe tbody tr th:only-of-type {\n",
              "        vertical-align: middle;\n",
              "    }\n",
              "\n",
              "    .dataframe tbody tr th {\n",
              "        vertical-align: top;\n",
              "    }\n",
              "\n",
              "    .dataframe thead th {\n",
              "        text-align: right;\n",
              "    }\n",
              "</style>\n",
              "<table border=\"1\" class=\"dataframe\">\n",
              "  <thead>\n",
              "    <tr style=\"text-align: right;\">\n",
              "      <th></th>\n",
              "      <th>Loan_ID</th>\n",
              "      <th>Gender</th>\n",
              "      <th>Married</th>\n",
              "      <th>Dependents</th>\n",
              "      <th>Education</th>\n",
              "      <th>Self_Employed</th>\n",
              "      <th>ApplicantIncome</th>\n",
              "      <th>CoapplicantIncome</th>\n",
              "      <th>LoanAmount</th>\n",
              "      <th>Loan_Amount_Term</th>\n",
              "      <th>Credit_History</th>\n",
              "      <th>Property_Area</th>\n",
              "      <th>Loan_Status</th>\n",
              "    </tr>\n",
              "  </thead>\n",
              "  <tbody>\n",
              "    <tr>\n",
              "      <th>0</th>\n",
              "      <td>LP001002</td>\n",
              "      <td>Male</td>\n",
              "      <td>No</td>\n",
              "      <td>0</td>\n",
              "      <td>Graduate</td>\n",
              "      <td>No</td>\n",
              "      <td>5849</td>\n",
              "      <td>0.0</td>\n",
              "      <td>NaN</td>\n",
              "      <td>360.0</td>\n",
              "      <td>1.0</td>\n",
              "      <td>Urban</td>\n",
              "      <td>Y</td>\n",
              "    </tr>\n",
              "    <tr>\n",
              "      <th>1</th>\n",
              "      <td>LP001003</td>\n",
              "      <td>Male</td>\n",
              "      <td>Yes</td>\n",
              "      <td>1</td>\n",
              "      <td>Graduate</td>\n",
              "      <td>No</td>\n",
              "      <td>4583</td>\n",
              "      <td>1508.0</td>\n",
              "      <td>128.0</td>\n",
              "      <td>360.0</td>\n",
              "      <td>1.0</td>\n",
              "      <td>Rural</td>\n",
              "      <td>N</td>\n",
              "    </tr>\n",
              "    <tr>\n",
              "      <th>2</th>\n",
              "      <td>LP001005</td>\n",
              "      <td>Male</td>\n",
              "      <td>Yes</td>\n",
              "      <td>0</td>\n",
              "      <td>Graduate</td>\n",
              "      <td>Yes</td>\n",
              "      <td>3000</td>\n",
              "      <td>0.0</td>\n",
              "      <td>66.0</td>\n",
              "      <td>360.0</td>\n",
              "      <td>1.0</td>\n",
              "      <td>Urban</td>\n",
              "      <td>Y</td>\n",
              "    </tr>\n",
              "    <tr>\n",
              "      <th>3</th>\n",
              "      <td>LP001006</td>\n",
              "      <td>Male</td>\n",
              "      <td>Yes</td>\n",
              "      <td>0</td>\n",
              "      <td>Not Graduate</td>\n",
              "      <td>No</td>\n",
              "      <td>2583</td>\n",
              "      <td>2358.0</td>\n",
              "      <td>120.0</td>\n",
              "      <td>360.0</td>\n",
              "      <td>1.0</td>\n",
              "      <td>Urban</td>\n",
              "      <td>Y</td>\n",
              "    </tr>\n",
              "    <tr>\n",
              "      <th>4</th>\n",
              "      <td>LP001008</td>\n",
              "      <td>Male</td>\n",
              "      <td>No</td>\n",
              "      <td>0</td>\n",
              "      <td>Graduate</td>\n",
              "      <td>No</td>\n",
              "      <td>6000</td>\n",
              "      <td>0.0</td>\n",
              "      <td>141.0</td>\n",
              "      <td>360.0</td>\n",
              "      <td>1.0</td>\n",
              "      <td>Urban</td>\n",
              "      <td>Y</td>\n",
              "    </tr>\n",
              "  </tbody>\n",
              "</table>\n",
              "</div>"
            ],
            "text/plain": [
              "    Loan_ID Gender Married  ... Credit_History Property_Area Loan_Status\n",
              "0  LP001002   Male      No  ...            1.0         Urban           Y\n",
              "1  LP001003   Male     Yes  ...            1.0         Rural           N\n",
              "2  LP001005   Male     Yes  ...            1.0         Urban           Y\n",
              "3  LP001006   Male     Yes  ...            1.0         Urban           Y\n",
              "4  LP001008   Male      No  ...            1.0         Urban           Y\n",
              "\n",
              "[5 rows x 13 columns]"
            ]
          },
          "metadata": {},
          "execution_count": 2
        }
      ]
    },
    {
      "cell_type": "code",
      "metadata": {
        "colab": {
          "base_uri": "https://localhost:8080/"
        },
        "id": "ci55NJ8TyOJw",
        "outputId": "7b0636f4-9a6a-418c-e816-9e7eee55f3b2"
      },
      "source": [
        "# check shape\n",
        "data.shape"
      ],
      "execution_count": 3,
      "outputs": [
        {
          "output_type": "execute_result",
          "data": {
            "text/plain": [
              "(614, 13)"
            ]
          },
          "metadata": {},
          "execution_count": 3
        }
      ]
    },
    {
      "cell_type": "markdown",
      "metadata": {
        "id": "0pYn8YPiyYUk"
      },
      "source": [
        "**Identifying the type of problem**"
      ]
    },
    {
      "cell_type": "code",
      "metadata": {
        "colab": {
          "base_uri": "https://localhost:8080/"
        },
        "id": "tMHHyGXSyTxt",
        "outputId": "d096e571-2edb-4859-bc14-8a0745319d0e"
      },
      "source": [
        "data.dtypes"
      ],
      "execution_count": 4,
      "outputs": [
        {
          "output_type": "execute_result",
          "data": {
            "text/plain": [
              "Loan_ID               object\n",
              "Gender                object\n",
              "Married               object\n",
              "Dependents            object\n",
              "Education             object\n",
              "Self_Employed         object\n",
              "ApplicantIncome        int64\n",
              "CoapplicantIncome    float64\n",
              "LoanAmount           float64\n",
              "Loan_Amount_Term     float64\n",
              "Credit_History       float64\n",
              "Property_Area         object\n",
              "Loan_Status           object\n",
              "dtype: object"
            ]
          },
          "metadata": {},
          "execution_count": 4
        }
      ]
    },
    {
      "cell_type": "markdown",
      "metadata": {
        "id": "KkGPp5ttymDq"
      },
      "source": [
        " - We've onle column which is of int type \"ApplicantIncome\".\n",
        " - 8 columns are object type and 4 columns are float type.\n",
        " - Target column \"Loan_Status\" is of object type so we'll use classification."
      ]
    },
    {
      "cell_type": "markdown",
      "metadata": {
        "id": "fg9TS9TgzKI3"
      },
      "source": [
        "## **EDA**"
      ]
    },
    {
      "cell_type": "code",
      "metadata": {
        "colab": {
          "base_uri": "https://localhost:8080/",
          "height": 373
        },
        "id": "WUIla9P4ye0_",
        "outputId": "fbf41111-cd92-46ea-8b42-fba83dd81ffb"
      },
      "source": [
        "# checking null\n",
        "import seaborn as sns\n",
        "\n",
        "sns.heatmap(data.isnull())"
      ],
      "execution_count": 5,
      "outputs": [
        {
          "output_type": "execute_result",
          "data": {
            "text/plain": [
              "<matplotlib.axes._subplots.AxesSubplot at 0x7fde6794c050>"
            ]
          },
          "metadata": {},
          "execution_count": 5
        },
        {
          "output_type": "display_data",
          "data": {
            "image/png": "[encoded data removed]",
            "text/plain": [
              "<Figure size 432x288 with 2 Axes>"
            ]
          },
          "metadata": {
            "needs_background": "light"
          }
        }
      ]
    },
    {
      "cell_type": "code",
      "metadata": {
        "id": "kKF4QFkrzXLT"
      },
      "source": [
        "# replacing null value by mode\n",
        "\n",
        "datlist = data.columns.values\n",
        "for i in range(0, len(datlist)):\n",
        "  if data[datlist[i]].dtype == 'object':\n",
        "    data[datlist[i]].fillna(data[datlist[i]].mode()[0],inplace=True)"
      ],
      "execution_count": 11,
      "outputs": []
    },
    {
      "cell_type": "code",
      "metadata": {
        "id": "uydWBhjp00Sw"
      },
      "source": [
        "# replacing int & float null values with mean\n",
        "\n",
        "for i in range(0, len(datlist)):\n",
        "  if data[datlist[i]].dtype != 'object':\n",
        "    data[datlist[i]].fillna(data[datlist[i]].mean(),inplace=True)"
      ],
      "execution_count": 13,
      "outputs": []
    },
    {
      "cell_type": "code",
      "metadata": {
        "colab": {
          "base_uri": "https://localhost:8080/",
          "height": 373
        },
        "id": "K3aNt4X61kSr",
        "outputId": "cc25300b-0d76-4f8f-e5e0-25f8f76c9759"
      },
      "source": [
        "# check again null values\n",
        "\n",
        "sns.heatmap(data.isnull())"
      ],
      "execution_count": 15,
      "outputs": [
        {
          "output_type": "execute_result",
          "data": {
            "text/plain": [
              "<matplotlib.axes._subplots.AxesSubplot at 0x7fde4bc5edd0>"
            ]
          },
          "metadata": {},
          "execution_count": 15
        },
        {
          "output_type": "display_data",
          "data": {
            "image/png": "[encoded data removed]",
            "text/plain": [
              "<Figure size 432x288 with 2 Axes>"
            ]
          },
          "metadata": {
            "needs_background": "light"
          }
        }
      ]
    },
    {
      "cell_type": "markdown",
      "metadata": {
        "id": "znv0rLdt1_A_"
      },
      "source": [
        " - There are no null now."
      ]
    },
    {
      "cell_type": "markdown",
      "metadata": {
        "id": "Nln8PDDY2Gq5"
      },
      "source": [
        "## **Univarient Analysis** "
      ]
    },
    {
      "cell_type": "code",
      "metadata": {
        "colab": {
          "base_uri": "https://localhost:8080/",
          "height": 297
        },
        "id": "W4_MK45m11TZ",
        "outputId": "b84f013d-c262-4190-9b37-dd3fe91e5969"
      },
      "source": [
        "# let's visualise the data\n",
        "\n",
        "import matplotlib.pyplot as plt\n",
        "\n",
        "sns.countplot(x='Loan_Status', data=data)\n",
        "plt.title('Loan Approved Vs Denied', fontsize=14)\n",
        "plt.show()"
      ],
      "execution_count": 17,
      "outputs": [
        {
          "output_type": "display_data",
          "data": {
            "image/png": "[encoded data removed]",
            "text/plain": [
              "<Figure size 432x288 with 1 Axes>"
            ]
          },
          "metadata": {
            "needs_background": "light"
          }
        }
      ]
    },
    {
      "cell_type": "markdown",
      "metadata": {
        "id": "hQibRE1P3fxk"
      },
      "source": [
        " - There are almost 450 ppl whos load approved and 163 ppl whos loan denied."
      ]
    },
    {
      "cell_type": "code",
      "metadata": {
        "colab": {
          "base_uri": "https://localhost:8080/"
        },
        "id": "s_rfbBqP26xP",
        "outputId": "78e56196-7e8a-4844-e8ff-64001ac040e6"
      },
      "source": [
        "data['Dependents'].value_counts()"
      ],
      "execution_count": 18,
      "outputs": [
        {
          "output_type": "execute_result",
          "data": {
            "text/plain": [
              "0     360\n",
              "1     102\n",
              "2     101\n",
              "3+     51\n",
              "Name: Dependents, dtype: int64"
            ]
          },
          "metadata": {},
          "execution_count": 18
        }
      ]
    },
    {
      "cell_type": "code",
      "metadata": {
        "colab": {
          "base_uri": "https://localhost:8080/",
          "height": 296
        },
        "id": "i78Z0piY4HhI",
        "outputId": "4a435dc7-4cb7-4ce7-e03d-aa821c5b45b2"
      },
      "source": [
        "sns.countplot(x='Gender', data=data)\n",
        "plt.title('Male Vs Female', fontsize=14)\n",
        "plt.show()"
      ],
      "execution_count": 19,
      "outputs": [
        {
          "output_type": "display_data",
          "data": {
            "image/png": "[encoded data removed]",
            "text/plain": [
              "<Figure size 432x288 with 1 Axes>"
            ]
          },
          "metadata": {
            "needs_background": "light"
          }
        }
      ]
    },
    {
      "cell_type": "markdown",
      "metadata": {
        "id": "4omh6i-B4huv"
      },
      "source": [
        " - There are 500 male and 113 female."
      ]
    },
    {
      "cell_type": "code",
      "metadata": {
        "colab": {
          "base_uri": "https://localhost:8080/",
          "height": 296
        },
        "id": "fJ4RHw7y4ehB",
        "outputId": "0fc56084-f14b-48ab-80fa-afd2d2691ce3"
      },
      "source": [
        "sns.countplot(x='Married', data=data)\n",
        "plt.title('Married Vs Unmarried', fontsize=14)\n",
        "plt.show()"
      ],
      "execution_count": 20,
      "outputs": [
        {
          "output_type": "display_data",
          "data": {
            "image/png": "[encoded data removed]",
            "text/plain": [
              "<Figure size 432x288 with 1 Axes>"
            ]
          },
          "metadata": {
            "needs_background": "light"
          }
        }
      ]
    },
    {
      "cell_type": "markdown",
      "metadata": {
        "id": "yPFZQ_aw5BBw"
      },
      "source": [
        "We can say that married people applied for loan most."
      ]
    },
    {
      "cell_type": "code",
      "metadata": {
        "colab": {
          "base_uri": "https://localhost:8080/",
          "height": 296
        },
        "id": "0EWodVWo40QI",
        "outputId": "46df9518-4ef4-465a-dcc6-059ec9599aed"
      },
      "source": [
        "sns.countplot(x='Dependents', data=data)\n",
        "plt.title('No. of Dependents', fontsize=14)\n",
        "plt.show()"
      ],
      "execution_count": 21,
      "outputs": [
        {
          "output_type": "display_data",
          "data": {
            "image/png": "[encoded data removed]",
            "text/plain": [
              "<Figure size 432x288 with 1 Axes>"
            ]
          },
          "metadata": {
            "needs_background": "light"
          }
        }
      ]
    },
    {
      "cell_type": "markdown",
      "metadata": {
        "id": "e_hZjm7W5bTG"
      },
      "source": [
        " - The people who dosen't have any dependents applied for loan most."
      ]
    },
    {
      "cell_type": "code",
      "metadata": {
        "colab": {
          "base_uri": "https://localhost:8080/",
          "height": 296
        },
        "id": "Ib3a-Wua5XDJ",
        "outputId": "69952cf5-0509-4076-cf54-ff0ec8a38ac8"
      },
      "source": [
        "sns.countplot(x='Education', data=data)\n",
        "plt.title('Graduate Vs Not-Graduate', fontsize=14)\n",
        "plt.show()"
      ],
      "execution_count": 22,
      "outputs": [
        {
          "output_type": "display_data",
          "data": {
            "image/png": "[encoded data removed]",
            "text/plain": [
              "<Figure size 432x288 with 1 Axes>"
            ]
          },
          "metadata": {
            "needs_background": "light"
          }
        }
      ]
    },
    {
      "cell_type": "markdown",
      "metadata": {
        "id": "QoYOEn_C5y4u"
      },
      "source": [
        " - Graduates majoritily applied for loan."
      ]
    },
    {
      "cell_type": "code",
      "metadata": {
        "colab": {
          "base_uri": "https://localhost:8080/",
          "height": 297
        },
        "id": "Fub-fTo55wzv",
        "outputId": "cd631506-2de8-4777-8ceb-fdca4c533b06"
      },
      "source": [
        "sns.countplot(x='Self_Employed', data=data)\n",
        "plt.title('Self_Employed or Not', fontsize=14)\n",
        "plt.show()"
      ],
      "execution_count": 23,
      "outputs": [
        {
          "output_type": "display_data",
          "data": {
            "image/png": "[encoded data removed]",
            "text/plain": [
              "<Figure size 432x288 with 1 Axes>"
            ]
          },
          "metadata": {
            "needs_background": "light"
          }
        }
      ]
    },
    {
      "cell_type": "markdown",
      "metadata": {
        "id": "pMSGntYq6Jz8"
      },
      "source": [
        " - Those who are unemployed applied for loan most."
      ]
    },
    {
      "cell_type": "code",
      "metadata": {
        "colab": {
          "base_uri": "https://localhost:8080/",
          "height": 297
        },
        "id": "XkjxJTt66Fc3",
        "outputId": "acb14d87-d618-4639-e628-68838d2a138a"
      },
      "source": [
        "sns.countplot(x='Property_Area', data=data)\n",
        "plt.title('Property_Area Type', fontsize=14)\n",
        "plt.show()"
      ],
      "execution_count": 24,
      "outputs": [
        {
          "output_type": "display_data",
          "data": {
            "image/png": "[encoded data removed]",
            "text/plain": [
              "<Figure size 432x288 with 1 Axes>"
            ]
          },
          "metadata": {
            "needs_background": "light"
          }
        }
      ]
    },
    {
      "cell_type": "markdown",
      "metadata": {
        "id": "Ia8S9SsW6gZa"
      },
      "source": [
        " - Thos who has a property type 'Semiurban' applied for loan most."
      ]
    },
    {
      "cell_type": "markdown",
      "metadata": {
        "id": "0rzkFwg16rIT"
      },
      "source": [
        "# **Bi-Variate Analysis**"
      ]
    },
    {
      "cell_type": "code",
      "metadata": {
        "colab": {
          "base_uri": "https://localhost:8080/",
          "height": 881
        },
        "id": "-jKfqbkE6dF9",
        "outputId": "41c11e33-f572-4162-9642-c871e032ed64"
      },
      "source": [
        "label_list = ['Gender',\t'Married',\t'Dependents',\t'Education', 'Self_Employed', 'Loan_Amount_Term',\t'Credit_History',\t'Property_Area']\n",
        "fig, axes = plt.subplots(4,2,figsize=(12,15))\n",
        "for i,cat in enumerate(label_list):\n",
        "  # get the size of each plot in row and column\n",
        "  row,col = i//2,i%2  \n",
        "  sns.countplot(x=cat, hue='Loan_Status', data=data, ax=axes[row,col])\n",
        "plt.subplots_adjust(hspace=1)"
      ],
      "execution_count": 26,
      "outputs": [
        {
          "output_type": "display_data",
          "data": {
            "image/png": "[encoded data removed]",
            "text/plain": [
              "<Figure size 864x1080 with 8 Axes>"
            ]
          },
          "metadata": {
            "needs_background": "light"
          }
        }
      ]
    },
    {
      "cell_type": "markdown",
      "metadata": {
        "id": "LqU4WWrJ9m8T"
      },
      "source": [
        " - Loan approval status - Near 70% loan gets approved.\n",
        " - Gender : As compared to female, majority male applied for loan and gets approved.\n",
        " - Marital_status : Majority married male applied for loan and gets approved majoritily.\n",
        " - Dependents : Many people have no dependents and their loan gets approved majoritily.\n",
        " - Education : majority of graduated people loan gets approved.\n",
        " - Self_employed : 80% of population is of unemployed.\n",
        " - Loan_Amount_Term : Those who applied loan for 360 months, their loan gets approved mostly.\n",
        " - Credit_History : Those who have credit cards whose loan approved mostly.\n",
        " - Property_Area : Semiurban applied for loan most and mostly approved."
      ]
    },
    {
      "cell_type": "code",
      "metadata": {
        "colab": {
          "base_uri": "https://localhost:8080/",
          "height": 335
        },
        "id": "52YM6zCA9EeW",
        "outputId": "0d70dd83-c399-4107-f57a-9cf19d94923d"
      },
      "source": [
        "label_list = ['ApplicantIncome',\t'CoapplicantIncome', 'LoanAmount']\n",
        "fig, axes = plt.subplots(1,3,figsize=(17,5))\n",
        "for i,cat_col in enumerate(label_list): \n",
        "  sns.boxplot(y=cat_col, x='Loan_Status', data=data, ax=axes[i])\n",
        "plt.subplots_adjust(hspace=1)"
      ],
      "execution_count": 31,
      "outputs": [
        {
          "output_type": "display_data",
          "data": {
            "image/png": "[encoded data removed]",
            "text/plain": [
              "<Figure size 1224x360 with 3 Axes>"
            ]
          },
          "metadata": {
            "needs_background": "light"
          }
        }
      ]
    },
    {
      "cell_type": "markdown",
      "metadata": {
        "id": "U3dSf9VfBG3F"
      },
      "source": [
        " - There is no relation of numerical columns with Loan_Status.\n",
        " - Majority of outliers are there."
      ]
    },
    {
      "cell_type": "markdown",
      "metadata": {
        "id": "e-iqnB6wBU-N"
      },
      "source": [
        "## **Multi-Variate Analysis**"
      ]
    },
    {
      "cell_type": "code",
      "metadata": {
        "colab": {
          "base_uri": "https://localhost:8080/",
          "height": 586
        },
        "id": "6Wr_OtdSAaST",
        "outputId": "685b197c-c704-466b-fecc-0b3ef7aedb1b"
      },
      "source": [
        "# checking correlation\n",
        "\n",
        "plt.figure(figsize=(10,8))\n",
        "corr_mat = data.corr()\n",
        "sns.heatmap(corr_mat, annot=True)\n",
        "plt.title('Correlation Matrix')\n",
        "plt.show()"
      ],
      "execution_count": 36,
      "outputs": [
        {
          "output_type": "display_data",
          "data": {
            "image/png": "[encoded data removed]",
            "text/plain": [
              "<Figure size 720x576 with 2 Axes>"
            ]
          },
          "metadata": {
            "needs_background": "light"
          }
        }
      ]
    },
    {
      "cell_type": "markdown",
      "metadata": {
        "id": "uPnI03YqCRJq"
      },
      "source": [
        " - Loan_Status is categorical, so we can't see the correlation here."
      ]
    },
    {
      "cell_type": "markdown",
      "metadata": {
        "id": "LlOEQYidCarV"
      },
      "source": [
        "# **Data Cleaning**"
      ]
    },
    {
      "cell_type": "code",
      "metadata": {
        "id": "AKU0AV9NB79m"
      },
      "source": [
        "# drop Loan_ID, because it won't affect to data\n",
        "data.drop(['Loan_ID'], axis=1, inplace=True)"
      ],
      "execution_count": 37,
      "outputs": []
    },
    {
      "cell_type": "markdown",
      "metadata": {
        "id": "PH7O-yCbCz10"
      },
      "source": [
        "## **Removing Skewness**"
      ]
    },
    {
      "cell_type": "code",
      "metadata": {
        "colab": {
          "base_uri": "https://localhost:8080/"
        },
        "id": "SB1G9bo2Cu3T",
        "outputId": "9177636f-a1b4-4fbb-9983-4bb7fc55f783"
      },
      "source": [
        "data.skew()"
      ],
      "execution_count": 38,
      "outputs": [
        {
          "output_type": "execute_result",
          "data": {
            "text/plain": [
              "ApplicantIncome      6.539513\n",
              "CoapplicantIncome    7.491531\n",
              "LoanAmount           2.726601\n",
              "Loan_Amount_Term    -2.389680\n",
              "Credit_History      -1.963600\n",
              "dtype: float64"
            ]
          },
          "metadata": {},
          "execution_count": 38
        }
      ]
    },
    {
      "cell_type": "code",
      "metadata": {
        "id": "PeVsUAS9C9RM"
      },
      "source": [
        "from sklearn.preprocessing import PowerTransformer\n",
        "\n",
        "pt = PowerTransformer()\n",
        "for i in data.columns:\n",
        "  if data[i].dtypes != 'object':\n",
        "    if ((len(pd.unique(data[i]))) > 3):\n",
        "      if abs(data.loc[:,i].skew()) > 0.55:\n",
        "        data.loc[:,i]=pt.fit_transform(data.loc[:,i].values.reshape(-1,1))"
      ],
      "execution_count": 40,
      "outputs": []
    },
    {
      "cell_type": "markdown",
      "metadata": {
        "id": "ADe5e1dCE855"
      },
      "source": [
        "# **Label Encoding**"
      ]
    },
    {
      "cell_type": "code",
      "metadata": {
        "id": "Y0xUjnyQIg5F"
      },
      "source": [
        "import warnings\n",
        "warnings.filterwarnings('ignore')\n",
        "\n",
        "label_list1 = list(data.select_dtypes(['object']).columns)\n",
        "\n",
        "from sklearn.preprocessing import LabelEncoder\n",
        "le = LabelEncoder()\n",
        "for i in label_list1:\n",
        "  data[i] = le.fit_transform(data[i])"
      ],
      "execution_count": 62,
      "outputs": []
    },
    {
      "cell_type": "code",
      "metadata": {
        "colab": {
          "base_uri": "https://localhost:8080/",
          "height": 224
        },
        "id": "FFuR2RfYL68y",
        "outputId": "a13310fe-df67-44e2-fde0-780ad66bb9f0"
      },
      "source": [
        "data.head()"
      ],
      "execution_count": 63,
      "outputs": [
        {
          "output_type": "execute_result",
          "data": {
            "text/html": [
              "<div>\n",
              "<style scoped>\n",
              "    .dataframe tbody tr th:only-of-type {\n",
              "        vertical-align: middle;\n",
              "    }\n",
              "\n",
              "    .dataframe tbody tr th {\n",
              "        vertical-align: top;\n",
              "    }\n",
              "\n",
              "    .dataframe thead th {\n",
              "        text-align: right;\n",
              "    }\n",
              "</style>\n",
              "<table border=\"1\" class=\"dataframe\">\n",
              "  <thead>\n",
              "    <tr style=\"text-align: right;\">\n",
              "      <th></th>\n",
              "      <th>Gender</th>\n",
              "      <th>Married</th>\n",
              "      <th>Dependents</th>\n",
              "      <th>Education</th>\n",
              "      <th>Self_Employed</th>\n",
              "      <th>ApplicantIncome</th>\n",
              "      <th>CoapplicantIncome</th>\n",
              "      <th>LoanAmount</th>\n",
              "      <th>Loan_Amount_Term</th>\n",
              "      <th>Credit_History</th>\n",
              "      <th>Property_Area</th>\n",
              "      <th>Loan_Status</th>\n",
              "    </tr>\n",
              "  </thead>\n",
              "  <tbody>\n",
              "    <tr>\n",
              "      <th>0</th>\n",
              "      <td>1</td>\n",
              "      <td>0</td>\n",
              "      <td>0</td>\n",
              "      <td>0</td>\n",
              "      <td>0</td>\n",
              "      <td>0.544331</td>\n",
              "      <td>-1.102837</td>\n",
              "      <td>0.235387</td>\n",
              "      <td>0.185905</td>\n",
              "      <td>1.0</td>\n",
              "      <td>2</td>\n",
              "      <td>1</td>\n",
              "    </tr>\n",
              "    <tr>\n",
              "      <th>1</th>\n",
              "      <td>1</td>\n",
              "      <td>1</td>\n",
              "      <td>1</td>\n",
              "      <td>0</td>\n",
              "      <td>0</td>\n",
              "      <td>0.170974</td>\n",
              "      <td>0.750578</td>\n",
              "      <td>-0.037659</td>\n",
              "      <td>0.185905</td>\n",
              "      <td>1.0</td>\n",
              "      <td>0</td>\n",
              "      <td>0</td>\n",
              "    </tr>\n",
              "    <tr>\n",
              "      <th>2</th>\n",
              "      <td>1</td>\n",
              "      <td>1</td>\n",
              "      <td>0</td>\n",
              "      <td>0</td>\n",
              "      <td>1</td>\n",
              "      <td>-0.499955</td>\n",
              "      <td>-1.102837</td>\n",
              "      <td>-1.346305</td>\n",
              "      <td>0.185905</td>\n",
              "      <td>1.0</td>\n",
              "      <td>2</td>\n",
              "      <td>1</td>\n",
              "    </tr>\n",
              "    <tr>\n",
              "      <th>3</th>\n",
              "      <td>1</td>\n",
              "      <td>1</td>\n",
              "      <td>0</td>\n",
              "      <td>1</td>\n",
              "      <td>0</td>\n",
              "      <td>-0.743873</td>\n",
              "      <td>0.891686</td>\n",
              "      <td>-0.167886</td>\n",
              "      <td>0.185905</td>\n",
              "      <td>1.0</td>\n",
              "      <td>2</td>\n",
              "      <td>1</td>\n",
              "    </tr>\n",
              "    <tr>\n",
              "      <th>4</th>\n",
              "      <td>1</td>\n",
              "      <td>0</td>\n",
              "      <td>0</td>\n",
              "      <td>0</td>\n",
              "      <td>0</td>\n",
              "      <td>0.582817</td>\n",
              "      <td>-1.102837</td>\n",
              "      <td>0.158610</td>\n",
              "      <td>0.185905</td>\n",
              "      <td>1.0</td>\n",
              "      <td>2</td>\n",
              "      <td>1</td>\n",
              "    </tr>\n",
              "  </tbody>\n",
              "</table>\n",
              "</div>"
            ],
            "text/plain": [
              "   Gender  Married  Dependents  ...  Credit_History  Property_Area  Loan_Status\n",
              "0       1        0           0  ...             1.0              2            1\n",
              "1       1        1           1  ...             1.0              0            0\n",
              "2       1        1           0  ...             1.0              2            1\n",
              "3       1        1           0  ...             1.0              2            1\n",
              "4       1        0           0  ...             1.0              2            1\n",
              "\n",
              "[5 rows x 12 columns]"
            ]
          },
          "metadata": {},
          "execution_count": 63
        }
      ]
    },
    {
      "cell_type": "markdown",
      "metadata": {
        "id": "bruzdpW2MBoa"
      },
      "source": [
        "# **Removing Outliers**"
      ]
    },
    {
      "cell_type": "code",
      "metadata": {
        "colab": {
          "base_uri": "https://localhost:8080/",
          "height": 484
        },
        "id": "SReXQ5bQL8T5",
        "outputId": "96260d9c-a605-4ed1-8048-5fe325d6cbdb"
      },
      "source": [
        "import matplotlib.pyplot as plt\n",
        "data.boxplot(figsize=[20,8])\n",
        "plt.subplots_adjust()\n",
        "plt.show()"
      ],
      "execution_count": 64,
      "outputs": [
        {
          "output_type": "display_data",
          "data": {
            "image/png": "[encoded data removed]",
            "text/plain": [
              "<Figure size 1440x576 with 1 Axes>"
            ]
          },
          "metadata": {
            "needs_background": "light"
          }
        }
      ]
    },
    {
      "cell_type": "code",
      "metadata": {
        "colab": {
          "base_uri": "https://localhost:8080/"
        },
        "id": "sUguJRYZMcwV",
        "outputId": "20d12e7b-a35f-433a-ba29-efa21ea89517"
      },
      "source": [
        "from scipy.stats import zscore\n",
        "z = np.abs(zscore(data))\n",
        "print(np.where(z>3))"
      ],
      "execution_count": 65,
      "outputs": [
        {
          "output_type": "stream",
          "text": [
            "(array([ 14,  75,  94, 109, 130, 130, 133, 155, 155, 168, 171, 171, 179,\n",
            "       185, 188, 216, 228, 248, 293, 298, 333, 358, 366, 369, 378, 409,\n",
            "       443, 468, 500, 500, 516, 555, 561, 568, 573, 600]), array([7, 8, 7, 8, 7, 8, 7, 5, 7, 8, 5, 7, 8, 5, 5, 5, 8, 8, 8, 8, 5, 8,\n",
            "       8, 7, 8, 5, 5, 5, 5, 8, 8, 7, 7, 7, 8, 5]))\n"
          ],
          "name": "stdout"
        }
      ]
    },
    {
      "cell_type": "code",
      "metadata": {
        "colab": {
          "base_uri": "https://localhost:8080/"
        },
        "id": "icP0DTZWNJkM",
        "outputId": "6e64cd4e-96a5-4b72-ecde-896bdbd083ea"
      },
      "source": [
        "# removing outliers\n",
        "z = np.abs(zscore(data))\n",
        "threshold=3\n",
        "new_data = data[(z<3).all(axis=1)]\n",
        "print(data.shape)\n",
        "print(new_data.shape)"
      ],
      "execution_count": 67,
      "outputs": [
        {
          "output_type": "stream",
          "text": [
            "(614, 12)\n",
            "(582, 12)\n"
          ],
          "name": "stdout"
        }
      ]
    },
    {
      "cell_type": "code",
      "metadata": {
        "colab": {
          "base_uri": "https://localhost:8080/"
        },
        "id": "ouRhpxkXNvTJ",
        "outputId": "03e74d84-478d-4f34-bfdf-0fa5689bd615"
      },
      "source": [
        "# check how much data we lost\n",
        "\n",
        "loss_percent = (614-582)/614*100\n",
        "print(loss_percent)"
      ],
      "execution_count": 68,
      "outputs": [
        {
          "output_type": "stream",
          "text": [
            "5.211726384364821\n"
          ],
          "name": "stdout"
        }
      ]
    },
    {
      "cell_type": "markdown",
      "metadata": {
        "id": "0lU5NW8xOKqT"
      },
      "source": [
        "We lost 5% of data, which is ok."
      ]
    },
    {
      "cell_type": "markdown",
      "metadata": {
        "id": "p1OxSjREOQr5"
      },
      "source": [
        "# **Split the data**"
      ]
    },
    {
      "cell_type": "code",
      "metadata": {
        "id": "N_YJ-LMlQ10x"
      },
      "source": [
        "y = data['Loan_Status']\n",
        "X = data.drop('Loan_Status',axis=1, inplace=True)"
      ],
      "execution_count": null,
      "outputs": []
    },
    {
      "cell_type": "code",
      "metadata": {
        "colab": {
          "base_uri": "https://localhost:8080/"
        },
        "id": "__tQt6zIQ0NU",
        "outputId": "bc23f2ba-31aa-48aa-c09f-8bc7ff7b3629"
      },
      "source": [
        "y"
      ],
      "execution_count": 82,
      "outputs": [
        {
          "output_type": "execute_result",
          "data": {
            "text/plain": [
              "0      1\n",
              "1      0\n",
              "2      1\n",
              "3      1\n",
              "4      1\n",
              "      ..\n",
              "609    1\n",
              "610    1\n",
              "611    1\n",
              "612    1\n",
              "613    0\n",
              "Name: Loan_Status, Length: 614, dtype: int64"
            ]
          },
          "metadata": {},
          "execution_count": 82
        }
      ]
    },
    {
      "cell_type": "code",
      "metadata": {
        "colab": {
          "base_uri": "https://localhost:8080/",
          "height": 419
        },
        "id": "yHsT4EzUQoSi",
        "outputId": "f938cdd9-ade4-4d38-c7a8-ad111ed979e9"
      },
      "source": [
        "data"
      ],
      "execution_count": 81,
      "outputs": [
        {
          "output_type": "execute_result",
          "data": {
            "text/html": [
              "<div>\n",
              "<style scoped>\n",
              "    .dataframe tbody tr th:only-of-type {\n",
              "        vertical-align: middle;\n",
              "    }\n",
              "\n",
              "    .dataframe tbody tr th {\n",
              "        vertical-align: top;\n",
              "    }\n",
              "\n",
              "    .dataframe thead th {\n",
              "        text-align: right;\n",
              "    }\n",
              "</style>\n",
              "<table border=\"1\" class=\"dataframe\">\n",
              "  <thead>\n",
              "    <tr style=\"text-align: right;\">\n",
              "      <th></th>\n",
              "      <th>Gender</th>\n",
              "      <th>Married</th>\n",
              "      <th>Dependents</th>\n",
              "      <th>Education</th>\n",
              "      <th>Self_Employed</th>\n",
              "      <th>ApplicantIncome</th>\n",
              "      <th>CoapplicantIncome</th>\n",
              "      <th>LoanAmount</th>\n",
              "      <th>Loan_Amount_Term</th>\n",
              "      <th>Credit_History</th>\n",
              "      <th>Property_Area</th>\n",
              "    </tr>\n",
              "  </thead>\n",
              "  <tbody>\n",
              "    <tr>\n",
              "      <th>0</th>\n",
              "      <td>1</td>\n",
              "      <td>0</td>\n",
              "      <td>0</td>\n",
              "      <td>0</td>\n",
              "      <td>0</td>\n",
              "      <td>0.544331</td>\n",
              "      <td>-1.102837</td>\n",
              "      <td>0.235387</td>\n",
              "      <td>0.185905</td>\n",
              "      <td>1.0</td>\n",
              "      <td>2</td>\n",
              "    </tr>\n",
              "    <tr>\n",
              "      <th>1</th>\n",
              "      <td>1</td>\n",
              "      <td>1</td>\n",
              "      <td>1</td>\n",
              "      <td>0</td>\n",
              "      <td>0</td>\n",
              "      <td>0.170974</td>\n",
              "      <td>0.750578</td>\n",
              "      <td>-0.037659</td>\n",
              "      <td>0.185905</td>\n",
              "      <td>1.0</td>\n",
              "      <td>0</td>\n",
              "    </tr>\n",
              "    <tr>\n",
              "      <th>2</th>\n",
              "      <td>1</td>\n",
              "      <td>1</td>\n",
              "      <td>0</td>\n",
              "      <td>0</td>\n",
              "      <td>1</td>\n",
              "      <td>-0.499955</td>\n",
              "      <td>-1.102837</td>\n",
              "      <td>-1.346305</td>\n",
              "      <td>0.185905</td>\n",
              "      <td>1.0</td>\n",
              "      <td>2</td>\n",
              "    </tr>\n",
              "    <tr>\n",
              "      <th>3</th>\n",
              "      <td>1</td>\n",
              "      <td>1</td>\n",
              "      <td>0</td>\n",
              "      <td>1</td>\n",
              "      <td>0</td>\n",
              "      <td>-0.743873</td>\n",
              "      <td>0.891686</td>\n",
              "      <td>-0.167886</td>\n",
              "      <td>0.185905</td>\n",
              "      <td>1.0</td>\n",
              "      <td>2</td>\n",
              "    </tr>\n",
              "    <tr>\n",
              "      <th>4</th>\n",
              "      <td>1</td>\n",
              "      <td>0</td>\n",
              "      <td>0</td>\n",
              "      <td>0</td>\n",
              "      <td>0</td>\n",
              "      <td>0.582817</td>\n",
              "      <td>-1.102837</td>\n",
              "      <td>0.158610</td>\n",
              "      <td>0.185905</td>\n",
              "      <td>1.0</td>\n",
              "      <td>2</td>\n",
              "    </tr>\n",
              "    <tr>\n",
              "      <th>...</th>\n",
              "      <td>...</td>\n",
              "      <td>...</td>\n",
              "      <td>...</td>\n",
              "      <td>...</td>\n",
              "      <td>...</td>\n",
              "      <td>...</td>\n",
              "      <td>...</td>\n",
              "      <td>...</td>\n",
              "      <td>...</td>\n",
              "      <td>...</td>\n",
              "      <td>...</td>\n",
              "    </tr>\n",
              "    <tr>\n",
              "      <th>609</th>\n",
              "      <td>0</td>\n",
              "      <td>0</td>\n",
              "      <td>0</td>\n",
              "      <td>0</td>\n",
              "      <td>0</td>\n",
              "      <td>-0.554885</td>\n",
              "      <td>-1.102837</td>\n",
              "      <td>-1.205100</td>\n",
              "      <td>0.185905</td>\n",
              "      <td>1.0</td>\n",
              "      <td>0</td>\n",
              "    </tr>\n",
              "    <tr>\n",
              "      <th>610</th>\n",
              "      <td>1</td>\n",
              "      <td>1</td>\n",
              "      <td>3</td>\n",
              "      <td>0</td>\n",
              "      <td>0</td>\n",
              "      <td>-0.000290</td>\n",
              "      <td>-1.102837</td>\n",
              "      <td>-2.293317</td>\n",
              "      <td>-2.308570</td>\n",
              "      <td>1.0</td>\n",
              "      <td>0</td>\n",
              "    </tr>\n",
              "    <tr>\n",
              "      <th>611</th>\n",
              "      <td>1</td>\n",
              "      <td>1</td>\n",
              "      <td>1</td>\n",
              "      <td>0</td>\n",
              "      <td>0</td>\n",
              "      <td>1.023487</td>\n",
              "      <td>0.208603</td>\n",
              "      <td>1.372409</td>\n",
              "      <td>0.185905</td>\n",
              "      <td>1.0</td>\n",
              "      <td>2</td>\n",
              "    </tr>\n",
              "    <tr>\n",
              "      <th>612</th>\n",
              "      <td>1</td>\n",
              "      <td>1</td>\n",
              "      <td>2</td>\n",
              "      <td>0</td>\n",
              "      <td>0</td>\n",
              "      <td>0.931750</td>\n",
              "      <td>-1.102837</td>\n",
              "      <td>0.738924</td>\n",
              "      <td>0.185905</td>\n",
              "      <td>1.0</td>\n",
              "      <td>2</td>\n",
              "    </tr>\n",
              "    <tr>\n",
              "      <th>613</th>\n",
              "      <td>0</td>\n",
              "      <td>0</td>\n",
              "      <td>0</td>\n",
              "      <td>0</td>\n",
              "      <td>1</td>\n",
              "      <td>0.170974</td>\n",
              "      <td>-1.102837</td>\n",
              "      <td>0.039936</td>\n",
              "      <td>0.185905</td>\n",
              "      <td>0.0</td>\n",
              "      <td>1</td>\n",
              "    </tr>\n",
              "  </tbody>\n",
              "</table>\n",
              "<p>614 rows × 11 columns</p>\n",
              "</div>"
            ],
            "text/plain": [
              "     Gender  Married  ...  Credit_History  Property_Area\n",
              "0         1        0  ...             1.0              2\n",
              "1         1        1  ...             1.0              0\n",
              "2         1        1  ...             1.0              2\n",
              "3         1        1  ...             1.0              2\n",
              "4         1        0  ...             1.0              2\n",
              "..      ...      ...  ...             ...            ...\n",
              "609       0        0  ...             1.0              0\n",
              "610       1        1  ...             1.0              0\n",
              "611       1        1  ...             1.0              2\n",
              "612       1        1  ...             1.0              2\n",
              "613       0        0  ...             0.0              1\n",
              "\n",
              "[614 rows x 11 columns]"
            ]
          },
          "metadata": {},
          "execution_count": 81
        }
      ]
    },
    {
      "cell_type": "markdown",
      "metadata": {
        "id": "BPy3SSqJOlXo"
      },
      "source": [
        "# **Scaling**"
      ]
    },
    {
      "cell_type": "code",
      "metadata": {
        "id": "sNnE-24eRCMa"
      },
      "source": [
        "X = data"
      ],
      "execution_count": 83,
      "outputs": []
    },
    {
      "cell_type": "code",
      "metadata": {
        "colab": {
          "base_uri": "https://localhost:8080/",
          "height": 204
        },
        "id": "mheKJhLxOjXF",
        "outputId": "8936529f-f9ce-4e49-9b89-07cf81d9eac8"
      },
      "source": [
        "from sklearn.preprocessing import MinMaxScaler\n",
        "\n",
        "scaler = MinMaxScaler()\n",
        "scale_X = scaler.fit_transform(X)\n",
        "scaled_X = pd.DataFrame(scale_X, index=X.index, columns=X.columns)\n",
        "X = scaled_X\n",
        "X.head()"
      ],
      "execution_count": 85,
      "outputs": [
        {
          "output_type": "execute_result",
          "data": {
            "text/html": [
              "<div>\n",
              "<style scoped>\n",
              "    .dataframe tbody tr th:only-of-type {\n",
              "        vertical-align: middle;\n",
              "    }\n",
              "\n",
              "    .dataframe tbody tr th {\n",
              "        vertical-align: top;\n",
              "    }\n",
              "\n",
              "    .dataframe thead th {\n",
              "        text-align: right;\n",
              "    }\n",
              "</style>\n",
              "<table border=\"1\" class=\"dataframe\">\n",
              "  <thead>\n",
              "    <tr style=\"text-align: right;\">\n",
              "      <th></th>\n",
              "      <th>Gender</th>\n",
              "      <th>Married</th>\n",
              "      <th>Dependents</th>\n",
              "      <th>Education</th>\n",
              "      <th>Self_Employed</th>\n",
              "      <th>ApplicantIncome</th>\n",
              "      <th>CoapplicantIncome</th>\n",
              "      <th>LoanAmount</th>\n",
              "      <th>Loan_Amount_Term</th>\n",
              "      <th>Credit_History</th>\n",
              "      <th>Property_Area</th>\n",
              "    </tr>\n",
              "  </thead>\n",
              "  <tbody>\n",
              "    <tr>\n",
              "      <th>0</th>\n",
              "      <td>1.0</td>\n",
              "      <td>0.0</td>\n",
              "      <td>0.000000</td>\n",
              "      <td>0.0</td>\n",
              "      <td>0.0</td>\n",
              "      <td>0.657450</td>\n",
              "      <td>0.000000</td>\n",
              "      <td>0.602410</td>\n",
              "      <td>0.421646</td>\n",
              "      <td>1.0</td>\n",
              "      <td>1.0</td>\n",
              "    </tr>\n",
              "    <tr>\n",
              "      <th>1</th>\n",
              "      <td>1.0</td>\n",
              "      <td>1.0</td>\n",
              "      <td>0.333333</td>\n",
              "      <td>0.0</td>\n",
              "      <td>0.0</td>\n",
              "      <td>0.620785</td>\n",
              "      <td>0.618705</td>\n",
              "      <td>0.570129</td>\n",
              "      <td>0.421646</td>\n",
              "      <td>1.0</td>\n",
              "      <td>0.0</td>\n",
              "    </tr>\n",
              "    <tr>\n",
              "      <th>2</th>\n",
              "      <td>1.0</td>\n",
              "      <td>1.0</td>\n",
              "      <td>0.000000</td>\n",
              "      <td>0.0</td>\n",
              "      <td>1.0</td>\n",
              "      <td>0.554899</td>\n",
              "      <td>0.000000</td>\n",
              "      <td>0.415415</td>\n",
              "      <td>0.421646</td>\n",
              "      <td>1.0</td>\n",
              "      <td>1.0</td>\n",
              "    </tr>\n",
              "    <tr>\n",
              "      <th>3</th>\n",
              "      <td>1.0</td>\n",
              "      <td>1.0</td>\n",
              "      <td>0.000000</td>\n",
              "      <td>1.0</td>\n",
              "      <td>0.0</td>\n",
              "      <td>0.530946</td>\n",
              "      <td>0.665810</td>\n",
              "      <td>0.554733</td>\n",
              "      <td>0.421646</td>\n",
              "      <td>1.0</td>\n",
              "      <td>1.0</td>\n",
              "    </tr>\n",
              "    <tr>\n",
              "      <th>4</th>\n",
              "      <td>1.0</td>\n",
              "      <td>0.0</td>\n",
              "      <td>0.000000</td>\n",
              "      <td>0.0</td>\n",
              "      <td>0.0</td>\n",
              "      <td>0.661229</td>\n",
              "      <td>0.000000</td>\n",
              "      <td>0.593333</td>\n",
              "      <td>0.421646</td>\n",
              "      <td>1.0</td>\n",
              "      <td>1.0</td>\n",
              "    </tr>\n",
              "  </tbody>\n",
              "</table>\n",
              "</div>"
            ],
            "text/plain": [
              "   Gender  Married  Dependents  ...  Loan_Amount_Term  Credit_History  Property_Area\n",
              "0     1.0      0.0    0.000000  ...          0.421646             1.0            1.0\n",
              "1     1.0      1.0    0.333333  ...          0.421646             1.0            0.0\n",
              "2     1.0      1.0    0.000000  ...          0.421646             1.0            1.0\n",
              "3     1.0      1.0    0.000000  ...          0.421646             1.0            1.0\n",
              "4     1.0      0.0    0.000000  ...          0.421646             1.0            1.0\n",
              "\n",
              "[5 rows x 11 columns]"
            ]
          },
          "metadata": {},
          "execution_count": 85
        }
      ]
    },
    {
      "cell_type": "markdown",
      "metadata": {
        "id": "nAwD6uDTRSP1"
      },
      "source": [
        "# **Finding the Best Random State**"
      ]
    },
    {
      "cell_type": "code",
      "metadata": {
        "colab": {
          "base_uri": "https://localhost:8080/"
        },
        "id": "0KYxiBjCPY5t",
        "outputId": "b9924959-f00b-44ee-bd13-bfa0bfa6d588"
      },
      "source": [
        "from sklearn.model_selection import train_test_split\n",
        "from sklearn.linear_model import LogisticRegression\n",
        "from sklearn.metrics import accuracy_score, confusion_matrix, classification_report, auc\n",
        "\n",
        "maxAcc = 0\n",
        "maxRS = 0\n",
        "for i in range(1400,1450):\n",
        "  X_train, X_test, y_train, y_test = train_test_split(X, y, test_size=0.30, random_state=i)\n",
        "  lr = LogisticRegression()\n",
        "  lr.fit(X_train,y_train)\n",
        "  predrf = lr.predict(X_test)\n",
        "  acc = accuracy_score(y_test, predrf)\n",
        "\n",
        "  if acc > maxAcc:\n",
        "    maxAcc = acc\n",
        "    maxRS = i\n",
        "print('Best Accuracy on',maxAcc,'Random State ',maxRS)"
      ],
      "execution_count": 90,
      "outputs": [
        {
          "output_type": "stream",
          "text": [
            "Best Accuracy on 0.8810810810810811 Random State  1424\n"
          ],
          "name": "stdout"
        }
      ]
    },
    {
      "cell_type": "markdown",
      "metadata": {
        "id": "aLJM7gM5TgLs"
      },
      "source": [
        "# **Train Test Split**"
      ]
    },
    {
      "cell_type": "code",
      "metadata": {
        "colab": {
          "base_uri": "https://localhost:8080/"
        },
        "id": "I0YUyUlSRm_h",
        "outputId": "228a31e3-b301-467d-f738-a20e8e570619"
      },
      "source": [
        "train_test_split(X, y, test_size=0.30, random_state=1424)"
      ],
      "execution_count": 92,
      "outputs": [
        {
          "output_type": "execute_result",
          "data": {
            "text/plain": [
              "[     Gender  Married  ...  Credit_History  Property_Area\n",
              " 493     0.0      0.0  ...             1.0            0.5\n",
              " 17      0.0      0.0  ...             0.0            1.0\n",
              " 477     1.0      1.0  ...             0.0            0.5\n",
              " 546     1.0      0.0  ...             1.0            0.5\n",
              " 105     1.0      1.0  ...             1.0            1.0\n",
              " ..      ...      ...  ...             ...            ...\n",
              " 92      1.0      1.0  ...             1.0            1.0\n",
              " 174     1.0      1.0  ...             1.0            0.5\n",
              " 176     1.0      1.0  ...             1.0            0.0\n",
              " 394     1.0      1.0  ...             1.0            1.0\n",
              " 185     1.0      1.0  ...             1.0            0.5\n",
              " \n",
              " [429 rows x 11 columns],\n",
              "      Gender  Married  ...  Credit_History  Property_Area\n",
              " 113     0.0      0.0  ...        1.000000            0.5\n",
              " 251     0.0      0.0  ...        1.000000            1.0\n",
              " 195     1.0      1.0  ...        1.000000            0.5\n",
              " 448     1.0      1.0  ...        0.000000            0.0\n",
              " 149     1.0      1.0  ...        1.000000            0.5\n",
              " ..      ...      ...  ...             ...            ...\n",
              " 187     1.0      1.0  ...        0.842199            0.0\n",
              " 84      1.0      1.0  ...        1.000000            1.0\n",
              " 305     1.0      0.0  ...        1.000000            1.0\n",
              " 462     1.0      1.0  ...        1.000000            0.0\n",
              " 213     1.0      1.0  ...        1.000000            0.0\n",
              " \n",
              " [185 rows x 11 columns],\n",
              " 493    1\n",
              " 17     0\n",
              " 477    0\n",
              " 546    0\n",
              " 105    1\n",
              "       ..\n",
              " 92     1\n",
              " 174    0\n",
              " 176    1\n",
              " 394    1\n",
              " 185    1\n",
              " Name: Loan_Status, Length: 429, dtype: int64,\n",
              " 113    1\n",
              " 251    0\n",
              " 195    0\n",
              " 448    0\n",
              " 149    1\n",
              "       ..\n",
              " 187    1\n",
              " 84     1\n",
              " 305    0\n",
              " 462    1\n",
              " 213    1\n",
              " Name: Loan_Status, Length: 185, dtype: int64]"
            ]
          },
          "metadata": {},
          "execution_count": 92
        }
      ]
    },
    {
      "cell_type": "markdown",
      "metadata": {
        "id": "9QEYHSoPT0xQ"
      },
      "source": [
        "# **Finding Best Algorithm**"
      ]
    },
    {
      "cell_type": "code",
      "metadata": {
        "id": "M3nBC860Tyau"
      },
      "source": [
        "# importing all the required libraries to find the best algorithm\n",
        "\n",
        "from sklearn.naive_bayes import BernoulliNB\n",
        "from sklearn.svm import SVC\n",
        "from sklearn.tree import DecisionTreeClassifier\n",
        "from sklearn.neighbors import KNeighborsClassifier\n",
        "from sklearn.ensemble import RandomForestClassifier\n",
        "from sklearn.model_selection import cross_val_score\n",
        "\n",
        "model = [LogisticRegression(), BernoulliNB(), SVC(), DecisionTreeClassifier(), KNeighborsClassifier(), RandomForestClassifier()]"
      ],
      "execution_count": 98,
      "outputs": []
    },
    {
      "cell_type": "code",
      "metadata": {
        "colab": {
          "base_uri": "https://localhost:8080/"
        },
        "id": "-MRSwVeGVbat",
        "outputId": "15be12a0-7521-4e4c-d690-720b07378687"
      },
      "source": [
        "for m in model:\n",
        "  m.fit(X_train,y_train)\n",
        "  pred = m.predict(X_test)\n",
        "  print('Accuracy Score of ',m)\n",
        "  print(accuracy_score(y_test,pred))\n",
        "  print('----------------------------------------------------------------')\n",
        "  print(confusion_matrix(y_test,pred))\n",
        "  print('----------------------------------------------------------------')\n",
        "  print(classification_report(y_test,pred))\n",
        "  print('----------------------------------------------------------------')\n",
        "  score = cross_val_score(m,X,y,cv=5)\n",
        "  print(score)\n",
        "  print('----------------------------------------------------------------')\n",
        "  print(score.mean())\n",
        "  print('----------------------------------------------------------------')\n",
        "  print('Difference between cross validation and accuracy score is', accuracy_score(y_test,pred)-score.mean())\n",
        "  print('===================================================================================================')\n"
      ],
      "execution_count": 102,
      "outputs": [
        {
          "output_type": "stream",
          "text": [
            "Accuracy Score of  LogisticRegression(C=1.0, class_weight=None, dual=False, fit_intercept=True,\n",
            "                   intercept_scaling=1, l1_ratio=None, max_iter=100,\n",
            "                   multi_class='auto', n_jobs=None, penalty='l2',\n",
            "                   random_state=None, solver='lbfgs', tol=0.0001, verbose=0,\n",
            "                   warm_start=False)\n",
            "0.8540540540540541\n",
            "----------------------------------------------------------------\n",
            "[[ 25  26]\n",
            " [  1 133]]\n",
            "----------------------------------------------------------------\n",
            "              precision    recall  f1-score   support\n",
            "\n",
            "           0       0.96      0.49      0.65        51\n",
            "           1       0.84      0.99      0.91       134\n",
            "\n",
            "    accuracy                           0.85       185\n",
            "   macro avg       0.90      0.74      0.78       185\n",
            "weighted avg       0.87      0.85      0.84       185\n",
            "\n",
            "----------------------------------------------------------------\n",
            "[0.81300813 0.77235772 0.7804878  0.85365854 0.81967213]\n",
            "----------------------------------------------------------------\n",
            "0.8078368652538984\n",
            "----------------------------------------------------------------\n",
            "Difference between cross validation and accuracy score is 0.046217188800155684\n",
            "===================================================================================================\n",
            "Accuracy Score of  BernoulliNB(alpha=1.0, binarize=0.0, class_prior=None, fit_prior=True)\n",
            "0.8540540540540541\n",
            "----------------------------------------------------------------\n",
            "[[ 25  26]\n",
            " [  1 133]]\n",
            "----------------------------------------------------------------\n",
            "              precision    recall  f1-score   support\n",
            "\n",
            "           0       0.96      0.49      0.65        51\n",
            "           1       0.84      0.99      0.91       134\n",
            "\n",
            "    accuracy                           0.85       185\n",
            "   macro avg       0.90      0.74      0.78       185\n",
            "weighted avg       0.87      0.85      0.84       185\n",
            "\n",
            "----------------------------------------------------------------\n",
            "[0.81300813 0.7804878  0.7804878  0.85365854 0.81967213]\n",
            "----------------------------------------------------------------\n",
            "0.809462881514061\n",
            "----------------------------------------------------------------\n",
            "Difference between cross validation and accuracy score is 0.04459117253999312\n",
            "===================================================================================================\n",
            "Accuracy Score of  SVC(C=1.0, break_ties=False, cache_size=200, class_weight=None, coef0=0.0,\n",
            "    decision_function_shape='ovr', degree=3, gamma='scale', kernel='rbf',\n",
            "    max_iter=-1, probability=False, random_state=None, shrinking=True,\n",
            "    tol=0.001, verbose=False)\n",
            "0.8540540540540541\n",
            "----------------------------------------------------------------\n",
            "[[ 25  26]\n",
            " [  1 133]]\n",
            "----------------------------------------------------------------\n",
            "              precision    recall  f1-score   support\n",
            "\n",
            "           0       0.96      0.49      0.65        51\n",
            "           1       0.84      0.99      0.91       134\n",
            "\n",
            "    accuracy                           0.85       185\n",
            "   macro avg       0.90      0.74      0.78       185\n",
            "weighted avg       0.87      0.85      0.84       185\n",
            "\n",
            "----------------------------------------------------------------\n",
            "[0.81300813 0.7804878  0.7804878  0.85365854 0.81967213]\n",
            "----------------------------------------------------------------\n",
            "0.809462881514061\n",
            "----------------------------------------------------------------\n",
            "Difference between cross validation and accuracy score is 0.04459117253999312\n",
            "===================================================================================================\n",
            "Accuracy Score of  DecisionTreeClassifier(ccp_alpha=0.0, class_weight=None, criterion='gini',\n",
            "                       max_depth=None, max_features=None, max_leaf_nodes=None,\n",
            "                       min_impurity_decrease=0.0, min_impurity_split=None,\n",
            "                       min_samples_leaf=1, min_samples_split=2,\n",
            "                       min_weight_fraction_leaf=0.0, presort='deprecated',\n",
            "                       random_state=None, splitter='best')\n",
            "0.7135135135135136\n",
            "----------------------------------------------------------------\n",
            "[[ 26  25]\n",
            " [ 28 106]]\n",
            "----------------------------------------------------------------\n",
            "              precision    recall  f1-score   support\n",
            "\n",
            "           0       0.48      0.51      0.50        51\n",
            "           1       0.81      0.79      0.80       134\n",
            "\n",
            "    accuracy                           0.71       185\n",
            "   macro avg       0.65      0.65      0.65       185\n",
            "weighted avg       0.72      0.71      0.72       185\n",
            "\n",
            "----------------------------------------------------------------\n",
            "[0.69918699 0.65853659 0.7804878  0.73170732 0.74590164]\n",
            "----------------------------------------------------------------\n",
            "0.7231640677062509\n",
            "----------------------------------------------------------------\n",
            "Difference between cross validation and accuracy score is -0.009650554192737304\n",
            "===================================================================================================\n",
            "Accuracy Score of  KNeighborsClassifier(algorithm='auto', leaf_size=30, metric='minkowski',\n",
            "                     metric_params=None, n_jobs=None, n_neighbors=5, p=2,\n",
            "                     weights='uniform')\n",
            "0.8378378378378378\n",
            "----------------------------------------------------------------\n",
            "[[ 24  27]\n",
            " [  3 131]]\n",
            "----------------------------------------------------------------\n",
            "              precision    recall  f1-score   support\n",
            "\n",
            "           0       0.89      0.47      0.62        51\n",
            "           1       0.83      0.98      0.90       134\n",
            "\n",
            "    accuracy                           0.84       185\n",
            "   macro avg       0.86      0.72      0.76       185\n",
            "weighted avg       0.85      0.84      0.82       185\n",
            "\n",
            "----------------------------------------------------------------\n",
            "[0.80487805 0.75609756 0.7804878  0.81300813 0.75409836]\n",
            "----------------------------------------------------------------\n",
            "0.7817139810742371\n",
            "----------------------------------------------------------------\n",
            "Difference between cross validation and accuracy score is 0.056123856763600766\n",
            "===================================================================================================\n",
            "Accuracy Score of  RandomForestClassifier(bootstrap=True, ccp_alpha=0.0, class_weight=None,\n",
            "                       criterion='gini', max_depth=None, max_features='auto',\n",
            "                       max_leaf_nodes=None, max_samples=None,\n",
            "                       min_impurity_decrease=0.0, min_impurity_split=None,\n",
            "                       min_samples_leaf=1, min_samples_split=2,\n",
            "                       min_weight_fraction_leaf=0.0, n_estimators=100,\n",
            "                       n_jobs=None, oob_score=False, random_state=None,\n",
            "                       verbose=0, warm_start=False)\n",
            "0.8378378378378378\n",
            "----------------------------------------------------------------\n",
            "[[ 28  23]\n",
            " [  7 127]]\n",
            "----------------------------------------------------------------\n",
            "              precision    recall  f1-score   support\n",
            "\n",
            "           0       0.80      0.55      0.65        51\n",
            "           1       0.85      0.95      0.89       134\n",
            "\n",
            "    accuracy                           0.84       185\n",
            "   macro avg       0.82      0.75      0.77       185\n",
            "weighted avg       0.83      0.84      0.83       185\n",
            "\n",
            "----------------------------------------------------------------\n",
            "[0.79674797 0.74796748 0.76422764 0.81300813 0.81147541]\n",
            "----------------------------------------------------------------\n",
            "0.7866853258696522\n",
            "----------------------------------------------------------------\n",
            "Difference between cross validation and accuracy score is 0.0511525119681856\n",
            "===================================================================================================\n"
          ],
          "name": "stdout"
        }
      ]
    },
    {
      "cell_type": "markdown",
      "metadata": {
        "id": "UG7ipML8XoMg"
      },
      "source": [
        "# **Hyper Parameter Tuning**"
      ]
    },
    {
      "cell_type": "code",
      "metadata": {
        "colab": {
          "base_uri": "https://localhost:8080/"
        },
        "id": "qsNEQrEpXnbT",
        "outputId": "a7d59c75-cafe-473d-a81d-47b6ff55dabd"
      },
      "source": [
        "from sklearn.model_selection import RandomizedSearchCV\n",
        "\n",
        "param = {'max_depth' : [1,2,3,4,5,6,7,8,9,10,15,20],\n",
        "         'max_features' : [3,5,7,9],\n",
        "         'min_samples_leaf': [2,3,4,5,6] }\n",
        "\n",
        "clf = RandomizedSearchCV(RandomForestClassifier(), param)\n",
        "clf.fit(X_train, y_train)\n",
        "clf.best_params_"
      ],
      "execution_count": 104,
      "outputs": [
        {
          "output_type": "execute_result",
          "data": {
            "text/plain": [
              "{'max_depth': 6, 'max_features': 7, 'min_samples_leaf': 5}"
            ]
          },
          "metadata": {},
          "execution_count": 104
        }
      ]
    },
    {
      "cell_type": "code",
      "metadata": {
        "id": "uPxs_cnVXWEv"
      },
      "source": [
        "# predicting result based on test model\n",
        "\n",
        "clf_pred = clf.best_estimator_.predict(X_test)"
      ],
      "execution_count": 105,
      "outputs": []
    },
    {
      "cell_type": "code",
      "metadata": {
        "colab": {
          "base_uri": "https://localhost:8080/"
        },
        "id": "HnGHnPE-Y1M8",
        "outputId": "483bd53c-d69d-4847-871a-1c249fc988be"
      },
      "source": [
        "accuracy_score(y_test, clf_pred)"
      ],
      "execution_count": 106,
      "outputs": [
        {
          "output_type": "execute_result",
          "data": {
            "text/plain": [
              "0.8540540540540541"
            ]
          },
          "metadata": {},
          "execution_count": 106
        }
      ]
    },
    {
      "cell_type": "markdown",
      "metadata": {
        "id": "eAfmobWNY_d3"
      },
      "source": [
        " - Our model learnt almost 85% which is nice."
      ]
    },
    {
      "cell_type": "code",
      "metadata": {
        "colab": {
          "base_uri": "https://localhost:8080/"
        },
        "id": "8a_xTvnMY8kB",
        "outputId": "c6df8681-60d7-418c-f429-1ade7365949b"
      },
      "source": [
        "print(accuracy_score(y_test, clf_pred))\n",
        "print(confusion_matrix(y_test, clf_pred))\n",
        "print(classification_report(y_test, clf_pred))"
      ],
      "execution_count": 107,
      "outputs": [
        {
          "output_type": "stream",
          "text": [
            "0.8540540540540541\n",
            "[[ 26  25]\n",
            " [  2 132]]\n",
            "              precision    recall  f1-score   support\n",
            "\n",
            "           0       0.93      0.51      0.66        51\n",
            "           1       0.84      0.99      0.91       134\n",
            "\n",
            "    accuracy                           0.85       185\n",
            "   macro avg       0.88      0.75      0.78       185\n",
            "weighted avg       0.86      0.85      0.84       185\n",
            "\n"
          ],
          "name": "stdout"
        }
      ]
    },
    {
      "cell_type": "markdown",
      "metadata": {
        "id": "uEk3z-6DZYmM"
      },
      "source": [
        "# **AUC ROC Curve**"
      ]
    },
    {
      "cell_type": "code",
      "metadata": {
        "colab": {
          "base_uri": "https://localhost:8080/",
          "height": 567
        },
        "id": "ZLaJtNTnZX-5",
        "outputId": "92b7de20-e34f-4f3d-d1bc-ac2c5f99ba42"
      },
      "source": [
        "from sklearn.metrics import auc, roc_curve\n",
        "import matplotlib.pyplot as plt\n",
        "\n",
        "fpr, tpr, treshold = roc_curve(y_test, clf_pred)\n",
        "# model accuracy\n",
        "rf_auc = auc(fpr, tpr)\n",
        "plt.figure(figsize=(10,9))\n",
        "plt.plot(fpr, tpr, label='AUC : 0.2f' %rf_auc)\n",
        "plt.plot([1,0],[1,0],linestyle='--')\n",
        "# adding accuracy score at bottom right\n",
        "plt.legend(loc=0)\n",
        "plt.xlabel('False Positive Rate')\n",
        "plt.ylabel('True Positive Rate')\n",
        "plt.title('DecisionTreeClassifier')\n",
        "plt.grid()"
      ],
      "execution_count": 111,
      "outputs": [
        {
          "output_type": "display_data",
          "data": {
            "image/png": "[encoded data removed]",
            "text/plain": [
              "<Figure size 720x648 with 1 Axes>"
            ]
          },
          "metadata": {
            "needs_background": "light"
          }
        }
      ]
    },
    {
      "cell_type": "markdown",
      "metadata": {
        "id": "bOGYEb2Pa5zn"
      },
      "source": [
        "# **Saving the Model**"
      ]
    },
    {
      "cell_type": "code",
      "metadata": {
        "colab": {
          "base_uri": "https://localhost:8080/"
        },
        "id": "VYbs3Vuia5V5",
        "outputId": "026974d4-3ec3-4b4c-e9e8-c861a863ffb9"
      },
      "source": [
        "import joblib\n",
        "\n",
        "joblib.dump(clf.best_estimator_,'Loan_Prediction.obj')\n",
        "SVR_from_joblib = joblib.load('Loan_Prediction.obj')\n",
        "predicted = SVR_from_joblib.predict(X_test)\n",
        "predicted"
      ],
      "execution_count": 112,
      "outputs": [
        {
          "output_type": "execute_result",
          "data": {
            "text/plain": [
              "array([1, 0, 1, 1, 1, 1, 0, 1, 0, 1, 0, 1, 1, 1, 1, 1, 1, 1, 1, 1, 1, 1,\n",
              "       1, 1, 1, 0, 1, 1, 0, 1, 1, 1, 0, 1, 1, 1, 1, 1, 0, 1, 1, 1, 0, 1,\n",
              "       1, 1, 1, 1, 1, 1, 1, 1, 0, 1, 1, 1, 1, 0, 1, 1, 1, 1, 1, 1, 1, 1,\n",
              "       0, 1, 1, 0, 0, 1, 1, 1, 1, 1, 1, 0, 1, 1, 1, 1, 1, 1, 1, 1, 1, 1,\n",
              "       1, 1, 1, 1, 1, 1, 0, 1, 1, 1, 1, 1, 0, 1, 1, 0, 1, 0, 1, 0, 1, 1,\n",
              "       1, 1, 0, 1, 1, 1, 1, 1, 1, 1, 0, 1, 0, 1, 1, 1, 1, 1, 1, 1, 1, 1,\n",
              "       1, 1, 1, 1, 1, 1, 1, 1, 1, 1, 1, 1, 1, 1, 1, 1, 0, 1, 1, 1, 1, 1,\n",
              "       1, 1, 1, 1, 1, 1, 1, 1, 1, 1, 1, 1, 1, 1, 1, 1, 0, 0, 1, 1, 1, 1,\n",
              "       1, 1, 1, 0, 1, 0, 1, 1, 1])"
            ]
          },
          "metadata": {},
          "execution_count": 112
        }
      ]
    },
    {
      "cell_type": "code",
      "metadata": {
        "colab": {
          "base_uri": "https://localhost:8080/",
          "height": 131
        },
        "id": "uaImQuilZUsE",
        "outputId": "12ac3150-1f94-46d2-d960-0ee3361ff04b"
      },
      "source": [
        "pd.set_option('display.max_rows', None, 'display.max_columns', None)\n",
        "pd.DataFrame([SVR_from_joblib.predict(X_test)[:],y_test[:]],index=['Predicted', 'original'])"
      ],
      "execution_count": 113,
      "outputs": [
        {
          "output_type": "execute_result",
          "data": {
            "text/html": [
              "<div>\n",
              "<style scoped>\n",
              "    .dataframe tbody tr th:only-of-type {\n",
              "        vertical-align: middle;\n",
              "    }\n",
              "\n",
              "    .dataframe tbody tr th {\n",
              "        vertical-align: top;\n",
              "    }\n",
              "\n",
              "    .dataframe thead th {\n",
              "        text-align: right;\n",
              "    }\n",
              "</style>\n",
              "<table border=\"1\" class=\"dataframe\">\n",
              "  <thead>\n",
              "    <tr style=\"text-align: right;\">\n",
              "      <th></th>\n",
              "      <th>0</th>\n",
              "      <th>1</th>\n",
              "      <th>2</th>\n",
              "      <th>3</th>\n",
              "      <th>4</th>\n",
              "      <th>5</th>\n",
              "      <th>6</th>\n",
              "      <th>7</th>\n",
              "      <th>8</th>\n",
              "      <th>9</th>\n",
              "      <th>10</th>\n",
              "      <th>11</th>\n",
              "      <th>12</th>\n",
              "      <th>13</th>\n",
              "      <th>14</th>\n",
              "      <th>15</th>\n",
              "      <th>16</th>\n",
              "      <th>17</th>\n",
              "      <th>18</th>\n",
              "      <th>19</th>\n",
              "      <th>20</th>\n",
              "      <th>21</th>\n",
              "      <th>22</th>\n",
              "      <th>23</th>\n",
              "      <th>24</th>\n",
              "      <th>25</th>\n",
              "      <th>26</th>\n",
              "      <th>27</th>\n",
              "      <th>28</th>\n",
              "      <th>29</th>\n",
              "      <th>30</th>\n",
              "      <th>31</th>\n",
              "      <th>32</th>\n",
              "      <th>33</th>\n",
              "      <th>34</th>\n",
              "      <th>35</th>\n",
              "      <th>36</th>\n",
              "      <th>37</th>\n",
              "      <th>38</th>\n",
              "      <th>39</th>\n",
              "      <th>40</th>\n",
              "      <th>41</th>\n",
              "      <th>42</th>\n",
              "      <th>43</th>\n",
              "      <th>44</th>\n",
              "      <th>45</th>\n",
              "      <th>46</th>\n",
              "      <th>47</th>\n",
              "      <th>48</th>\n",
              "      <th>49</th>\n",
              "      <th>50</th>\n",
              "      <th>51</th>\n",
              "      <th>52</th>\n",
              "      <th>53</th>\n",
              "      <th>54</th>\n",
              "      <th>55</th>\n",
              "      <th>56</th>\n",
              "      <th>57</th>\n",
              "      <th>58</th>\n",
              "      <th>59</th>\n",
              "      <th>60</th>\n",
              "      <th>61</th>\n",
              "      <th>62</th>\n",
              "      <th>63</th>\n",
              "      <th>64</th>\n",
              "      <th>65</th>\n",
              "      <th>66</th>\n",
              "      <th>67</th>\n",
              "      <th>68</th>\n",
              "      <th>69</th>\n",
              "      <th>70</th>\n",
              "      <th>71</th>\n",
              "      <th>72</th>\n",
              "      <th>73</th>\n",
              "      <th>74</th>\n",
              "      <th>75</th>\n",
              "      <th>76</th>\n",
              "      <th>77</th>\n",
              "      <th>78</th>\n",
              "      <th>79</th>\n",
              "      <th>80</th>\n",
              "      <th>81</th>\n",
              "      <th>82</th>\n",
              "      <th>83</th>\n",
              "      <th>84</th>\n",
              "      <th>85</th>\n",
              "      <th>86</th>\n",
              "      <th>87</th>\n",
              "      <th>88</th>\n",
              "      <th>89</th>\n",
              "      <th>90</th>\n",
              "      <th>91</th>\n",
              "      <th>92</th>\n",
              "      <th>93</th>\n",
              "      <th>94</th>\n",
              "      <th>95</th>\n",
              "      <th>96</th>\n",
              "      <th>97</th>\n",
              "      <th>98</th>\n",
              "      <th>99</th>\n",
              "      <th>100</th>\n",
              "      <th>101</th>\n",
              "      <th>102</th>\n",
              "      <th>103</th>\n",
              "      <th>104</th>\n",
              "      <th>105</th>\n",
              "      <th>106</th>\n",
              "      <th>107</th>\n",
              "      <th>108</th>\n",
              "      <th>109</th>\n",
              "      <th>110</th>\n",
              "      <th>111</th>\n",
              "      <th>112</th>\n",
              "      <th>113</th>\n",
              "      <th>114</th>\n",
              "      <th>115</th>\n",
              "      <th>116</th>\n",
              "      <th>117</th>\n",
              "      <th>118</th>\n",
              "      <th>119</th>\n",
              "      <th>120</th>\n",
              "      <th>121</th>\n",
              "      <th>122</th>\n",
              "      <th>123</th>\n",
              "      <th>124</th>\n",
              "      <th>125</th>\n",
              "      <th>126</th>\n",
              "      <th>127</th>\n",
              "      <th>128</th>\n",
              "      <th>129</th>\n",
              "      <th>130</th>\n",
              "      <th>131</th>\n",
              "      <th>132</th>\n",
              "      <th>133</th>\n",
              "      <th>134</th>\n",
              "      <th>135</th>\n",
              "      <th>136</th>\n",
              "      <th>137</th>\n",
              "      <th>138</th>\n",
              "      <th>139</th>\n",
              "      <th>140</th>\n",
              "      <th>141</th>\n",
              "      <th>142</th>\n",
              "      <th>143</th>\n",
              "      <th>144</th>\n",
              "      <th>145</th>\n",
              "      <th>146</th>\n",
              "      <th>147</th>\n",
              "      <th>148</th>\n",
              "      <th>149</th>\n",
              "      <th>150</th>\n",
              "      <th>151</th>\n",
              "      <th>152</th>\n",
              "      <th>153</th>\n",
              "      <th>154</th>\n",
              "      <th>155</th>\n",
              "      <th>156</th>\n",
              "      <th>157</th>\n",
              "      <th>158</th>\n",
              "      <th>159</th>\n",
              "      <th>160</th>\n",
              "      <th>161</th>\n",
              "      <th>162</th>\n",
              "      <th>163</th>\n",
              "      <th>164</th>\n",
              "      <th>165</th>\n",
              "      <th>166</th>\n",
              "      <th>167</th>\n",
              "      <th>168</th>\n",
              "      <th>169</th>\n",
              "      <th>170</th>\n",
              "      <th>171</th>\n",
              "      <th>172</th>\n",
              "      <th>173</th>\n",
              "      <th>174</th>\n",
              "      <th>175</th>\n",
              "      <th>176</th>\n",
              "      <th>177</th>\n",
              "      <th>178</th>\n",
              "      <th>179</th>\n",
              "      <th>180</th>\n",
              "      <th>181</th>\n",
              "      <th>182</th>\n",
              "      <th>183</th>\n",
              "      <th>184</th>\n",
              "    </tr>\n",
              "  </thead>\n",
              "  <tbody>\n",
              "    <tr>\n",
              "      <th>Predicted</th>\n",
              "      <td>1</td>\n",
              "      <td>0</td>\n",
              "      <td>1</td>\n",
              "      <td>1</td>\n",
              "      <td>1</td>\n",
              "      <td>1</td>\n",
              "      <td>0</td>\n",
              "      <td>1</td>\n",
              "      <td>0</td>\n",
              "      <td>1</td>\n",
              "      <td>0</td>\n",
              "      <td>1</td>\n",
              "      <td>1</td>\n",
              "      <td>1</td>\n",
              "      <td>1</td>\n",
              "      <td>1</td>\n",
              "      <td>1</td>\n",
              "      <td>1</td>\n",
              "      <td>1</td>\n",
              "      <td>1</td>\n",
              "      <td>1</td>\n",
              "      <td>1</td>\n",
              "      <td>1</td>\n",
              "      <td>1</td>\n",
              "      <td>1</td>\n",
              "      <td>0</td>\n",
              "      <td>1</td>\n",
              "      <td>1</td>\n",
              "      <td>0</td>\n",
              "      <td>1</td>\n",
              "      <td>1</td>\n",
              "      <td>1</td>\n",
              "      <td>0</td>\n",
              "      <td>1</td>\n",
              "      <td>1</td>\n",
              "      <td>1</td>\n",
              "      <td>1</td>\n",
              "      <td>1</td>\n",
              "      <td>0</td>\n",
              "      <td>1</td>\n",
              "      <td>1</td>\n",
              "      <td>1</td>\n",
              "      <td>0</td>\n",
              "      <td>1</td>\n",
              "      <td>1</td>\n",
              "      <td>1</td>\n",
              "      <td>1</td>\n",
              "      <td>1</td>\n",
              "      <td>1</td>\n",
              "      <td>1</td>\n",
              "      <td>1</td>\n",
              "      <td>1</td>\n",
              "      <td>0</td>\n",
              "      <td>1</td>\n",
              "      <td>1</td>\n",
              "      <td>1</td>\n",
              "      <td>1</td>\n",
              "      <td>0</td>\n",
              "      <td>1</td>\n",
              "      <td>1</td>\n",
              "      <td>1</td>\n",
              "      <td>1</td>\n",
              "      <td>1</td>\n",
              "      <td>1</td>\n",
              "      <td>1</td>\n",
              "      <td>1</td>\n",
              "      <td>0</td>\n",
              "      <td>1</td>\n",
              "      <td>1</td>\n",
              "      <td>0</td>\n",
              "      <td>0</td>\n",
              "      <td>1</td>\n",
              "      <td>1</td>\n",
              "      <td>1</td>\n",
              "      <td>1</td>\n",
              "      <td>1</td>\n",
              "      <td>1</td>\n",
              "      <td>0</td>\n",
              "      <td>1</td>\n",
              "      <td>1</td>\n",
              "      <td>1</td>\n",
              "      <td>1</td>\n",
              "      <td>1</td>\n",
              "      <td>1</td>\n",
              "      <td>1</td>\n",
              "      <td>1</td>\n",
              "      <td>1</td>\n",
              "      <td>1</td>\n",
              "      <td>1</td>\n",
              "      <td>1</td>\n",
              "      <td>1</td>\n",
              "      <td>1</td>\n",
              "      <td>1</td>\n",
              "      <td>1</td>\n",
              "      <td>0</td>\n",
              "      <td>1</td>\n",
              "      <td>1</td>\n",
              "      <td>1</td>\n",
              "      <td>1</td>\n",
              "      <td>1</td>\n",
              "      <td>0</td>\n",
              "      <td>1</td>\n",
              "      <td>1</td>\n",
              "      <td>0</td>\n",
              "      <td>1</td>\n",
              "      <td>0</td>\n",
              "      <td>1</td>\n",
              "      <td>0</td>\n",
              "      <td>1</td>\n",
              "      <td>1</td>\n",
              "      <td>1</td>\n",
              "      <td>1</td>\n",
              "      <td>0</td>\n",
              "      <td>1</td>\n",
              "      <td>1</td>\n",
              "      <td>1</td>\n",
              "      <td>1</td>\n",
              "      <td>1</td>\n",
              "      <td>1</td>\n",
              "      <td>1</td>\n",
              "      <td>0</td>\n",
              "      <td>1</td>\n",
              "      <td>0</td>\n",
              "      <td>1</td>\n",
              "      <td>1</td>\n",
              "      <td>1</td>\n",
              "      <td>1</td>\n",
              "      <td>1</td>\n",
              "      <td>1</td>\n",
              "      <td>1</td>\n",
              "      <td>1</td>\n",
              "      <td>1</td>\n",
              "      <td>1</td>\n",
              "      <td>1</td>\n",
              "      <td>1</td>\n",
              "      <td>1</td>\n",
              "      <td>1</td>\n",
              "      <td>1</td>\n",
              "      <td>1</td>\n",
              "      <td>1</td>\n",
              "      <td>1</td>\n",
              "      <td>1</td>\n",
              "      <td>1</td>\n",
              "      <td>1</td>\n",
              "      <td>1</td>\n",
              "      <td>1</td>\n",
              "      <td>1</td>\n",
              "      <td>1</td>\n",
              "      <td>0</td>\n",
              "      <td>1</td>\n",
              "      <td>1</td>\n",
              "      <td>1</td>\n",
              "      <td>1</td>\n",
              "      <td>1</td>\n",
              "      <td>1</td>\n",
              "      <td>1</td>\n",
              "      <td>1</td>\n",
              "      <td>1</td>\n",
              "      <td>1</td>\n",
              "      <td>1</td>\n",
              "      <td>1</td>\n",
              "      <td>1</td>\n",
              "      <td>1</td>\n",
              "      <td>1</td>\n",
              "      <td>1</td>\n",
              "      <td>1</td>\n",
              "      <td>1</td>\n",
              "      <td>1</td>\n",
              "      <td>1</td>\n",
              "      <td>1</td>\n",
              "      <td>0</td>\n",
              "      <td>0</td>\n",
              "      <td>1</td>\n",
              "      <td>1</td>\n",
              "      <td>1</td>\n",
              "      <td>1</td>\n",
              "      <td>1</td>\n",
              "      <td>1</td>\n",
              "      <td>1</td>\n",
              "      <td>0</td>\n",
              "      <td>1</td>\n",
              "      <td>0</td>\n",
              "      <td>1</td>\n",
              "      <td>1</td>\n",
              "      <td>1</td>\n",
              "    </tr>\n",
              "    <tr>\n",
              "      <th>original</th>\n",
              "      <td>1</td>\n",
              "      <td>0</td>\n",
              "      <td>1</td>\n",
              "      <td>1</td>\n",
              "      <td>1</td>\n",
              "      <td>1</td>\n",
              "      <td>0</td>\n",
              "      <td>0</td>\n",
              "      <td>0</td>\n",
              "      <td>1</td>\n",
              "      <td>0</td>\n",
              "      <td>1</td>\n",
              "      <td>1</td>\n",
              "      <td>1</td>\n",
              "      <td>1</td>\n",
              "      <td>1</td>\n",
              "      <td>1</td>\n",
              "      <td>0</td>\n",
              "      <td>0</td>\n",
              "      <td>1</td>\n",
              "      <td>0</td>\n",
              "      <td>1</td>\n",
              "      <td>1</td>\n",
              "      <td>1</td>\n",
              "      <td>1</td>\n",
              "      <td>0</td>\n",
              "      <td>1</td>\n",
              "      <td>0</td>\n",
              "      <td>0</td>\n",
              "      <td>1</td>\n",
              "      <td>1</td>\n",
              "      <td>1</td>\n",
              "      <td>0</td>\n",
              "      <td>1</td>\n",
              "      <td>0</td>\n",
              "      <td>1</td>\n",
              "      <td>1</td>\n",
              "      <td>1</td>\n",
              "      <td>0</td>\n",
              "      <td>1</td>\n",
              "      <td>1</td>\n",
              "      <td>1</td>\n",
              "      <td>1</td>\n",
              "      <td>1</td>\n",
              "      <td>0</td>\n",
              "      <td>1</td>\n",
              "      <td>1</td>\n",
              "      <td>1</td>\n",
              "      <td>1</td>\n",
              "      <td>1</td>\n",
              "      <td>1</td>\n",
              "      <td>1</td>\n",
              "      <td>0</td>\n",
              "      <td>1</td>\n",
              "      <td>1</td>\n",
              "      <td>1</td>\n",
              "      <td>1</td>\n",
              "      <td>0</td>\n",
              "      <td>0</td>\n",
              "      <td>1</td>\n",
              "      <td>1</td>\n",
              "      <td>1</td>\n",
              "      <td>1</td>\n",
              "      <td>1</td>\n",
              "      <td>0</td>\n",
              "      <td>1</td>\n",
              "      <td>0</td>\n",
              "      <td>1</td>\n",
              "      <td>1</td>\n",
              "      <td>0</td>\n",
              "      <td>0</td>\n",
              "      <td>1</td>\n",
              "      <td>1</td>\n",
              "      <td>0</td>\n",
              "      <td>1</td>\n",
              "      <td>1</td>\n",
              "      <td>0</td>\n",
              "      <td>0</td>\n",
              "      <td>0</td>\n",
              "      <td>1</td>\n",
              "      <td>1</td>\n",
              "      <td>1</td>\n",
              "      <td>1</td>\n",
              "      <td>1</td>\n",
              "      <td>1</td>\n",
              "      <td>1</td>\n",
              "      <td>1</td>\n",
              "      <td>1</td>\n",
              "      <td>1</td>\n",
              "      <td>1</td>\n",
              "      <td>1</td>\n",
              "      <td>0</td>\n",
              "      <td>1</td>\n",
              "      <td>1</td>\n",
              "      <td>0</td>\n",
              "      <td>1</td>\n",
              "      <td>1</td>\n",
              "      <td>1</td>\n",
              "      <td>1</td>\n",
              "      <td>1</td>\n",
              "      <td>0</td>\n",
              "      <td>1</td>\n",
              "      <td>1</td>\n",
              "      <td>0</td>\n",
              "      <td>1</td>\n",
              "      <td>0</td>\n",
              "      <td>1</td>\n",
              "      <td>0</td>\n",
              "      <td>1</td>\n",
              "      <td>1</td>\n",
              "      <td>0</td>\n",
              "      <td>1</td>\n",
              "      <td>0</td>\n",
              "      <td>1</td>\n",
              "      <td>1</td>\n",
              "      <td>1</td>\n",
              "      <td>1</td>\n",
              "      <td>1</td>\n",
              "      <td>1</td>\n",
              "      <td>1</td>\n",
              "      <td>0</td>\n",
              "      <td>1</td>\n",
              "      <td>0</td>\n",
              "      <td>1</td>\n",
              "      <td>1</td>\n",
              "      <td>0</td>\n",
              "      <td>1</td>\n",
              "      <td>1</td>\n",
              "      <td>0</td>\n",
              "      <td>1</td>\n",
              "      <td>1</td>\n",
              "      <td>1</td>\n",
              "      <td>1</td>\n",
              "      <td>1</td>\n",
              "      <td>1</td>\n",
              "      <td>0</td>\n",
              "      <td>1</td>\n",
              "      <td>0</td>\n",
              "      <td>1</td>\n",
              "      <td>1</td>\n",
              "      <td>1</td>\n",
              "      <td>0</td>\n",
              "      <td>1</td>\n",
              "      <td>1</td>\n",
              "      <td>1</td>\n",
              "      <td>1</td>\n",
              "      <td>1</td>\n",
              "      <td>0</td>\n",
              "      <td>1</td>\n",
              "      <td>1</td>\n",
              "      <td>1</td>\n",
              "      <td>1</td>\n",
              "      <td>1</td>\n",
              "      <td>1</td>\n",
              "      <td>0</td>\n",
              "      <td>1</td>\n",
              "      <td>0</td>\n",
              "      <td>1</td>\n",
              "      <td>1</td>\n",
              "      <td>1</td>\n",
              "      <td>1</td>\n",
              "      <td>1</td>\n",
              "      <td>1</td>\n",
              "      <td>1</td>\n",
              "      <td>1</td>\n",
              "      <td>1</td>\n",
              "      <td>0</td>\n",
              "      <td>1</td>\n",
              "      <td>1</td>\n",
              "      <td>1</td>\n",
              "      <td>0</td>\n",
              "      <td>0</td>\n",
              "      <td>1</td>\n",
              "      <td>0</td>\n",
              "      <td>1</td>\n",
              "      <td>1</td>\n",
              "      <td>1</td>\n",
              "      <td>1</td>\n",
              "      <td>0</td>\n",
              "      <td>0</td>\n",
              "      <td>1</td>\n",
              "      <td>0</td>\n",
              "      <td>1</td>\n",
              "      <td>1</td>\n",
              "      <td>1</td>\n",
              "    </tr>\n",
              "  </tbody>\n",
              "</table>\n",
              "</div>"
            ],
            "text/plain": [
              "           0    1    2    3    4    5    6    7    8    9    10   11   12   \\\n",
              "Predicted    1    0    1    1    1    1    0    1    0    1    0    1    1   \n",
              "original     1    0    1    1    1    1    0    0    0    1    0    1    1   \n",
              "\n",
              "           13   14   15   16   17   18   19   20   21   22   23   24   25   \\\n",
              "Predicted    1    1    1    1    1    1    1    1    1    1    1    1    0   \n",
              "original     1    1    1    1    0    0    1    0    1    1    1    1    0   \n",
              "\n",
              "           26   27   28   29   30   31   32   33   34   35   36   37   38   \\\n",
              "Predicted    1    1    0    1    1    1    0    1    1    1    1    1    0   \n",
              "original     1    0    0    1    1    1    0    1    0    1    1    1    0   \n",
              "\n",
              "           39   40   41   42   43   44   45   46   47   48   49   50   51   \\\n",
              "Predicted    1    1    1    0    1    1    1    1    1    1    1    1    1   \n",
              "original     1    1    1    1    1    0    1    1    1    1    1    1    1   \n",
              "\n",
              "           52   53   54   55   56   57   58   59   60   61   62   63   64   \\\n",
              "Predicted    0    1    1    1    1    0    1    1    1    1    1    1    1   \n",
              "original     0    1    1    1    1    0    0    1    1    1    1    1    0   \n",
              "\n",
              "           65   66   67   68   69   70   71   72   73   74   75   76   77   \\\n",
              "Predicted    1    0    1    1    0    0    1    1    1    1    1    1    0   \n",
              "original     1    0    1    1    0    0    1    1    0    1    1    0    0   \n",
              "\n",
              "           78   79   80   81   82   83   84   85   86   87   88   89   90   \\\n",
              "Predicted    1    1    1    1    1    1    1    1    1    1    1    1    1   \n",
              "original     0    1    1    1    1    1    1    1    1    1    1    1    1   \n",
              "\n",
              "           91   92   93   94   95   96   97   98   99   100  101  102  103  \\\n",
              "Predicted    1    1    1    0    1    1    1    1    1    0    1    1    0   \n",
              "original     0    1    1    0    1    1    1    1    1    0    1    1    0   \n",
              "\n",
              "           104  105  106  107  108  109  110  111  112  113  114  115  116  \\\n",
              "Predicted    1    0    1    0    1    1    1    1    0    1    1    1    1   \n",
              "original     1    0    1    0    1    1    0    1    0    1    1    1    1   \n",
              "\n",
              "           117  118  119  120  121  122  123  124  125  126  127  128  129  \\\n",
              "Predicted    1    1    1    0    1    0    1    1    1    1    1    1    1   \n",
              "original     1    1    1    0    1    0    1    1    0    1    1    0    1   \n",
              "\n",
              "           130  131  132  133  134  135  136  137  138  139  140  141  142  \\\n",
              "Predicted    1    1    1    1    1    1    1    1    1    1    1    1    1   \n",
              "original     1    1    1    1    1    0    1    0    1    1    1    0    1   \n",
              "\n",
              "           143  144  145  146  147  148  149  150  151  152  153  154  155  \\\n",
              "Predicted    1    1    1    1    1    0    1    1    1    1    1    1    1   \n",
              "original     1    1    1    1    0    1    1    1    1    1    1    0    1   \n",
              "\n",
              "           156  157  158  159  160  161  162  163  164  165  166  167  168  \\\n",
              "Predicted    1    1    1    1    1    1    1    1    1    1    1    1    1   \n",
              "original     0    1    1    1    1    1    1    1    1    1    0    1    1   \n",
              "\n",
              "           169  170  171  172  173  174  175  176  177  178  179  180  181  \\\n",
              "Predicted    1    0    0    1    1    1    1    1    1    1    0    1    0   \n",
              "original     1    0    0    1    0    1    1    1    1    0    0    1    0   \n",
              "\n",
              "           182  183  184  \n",
              "Predicted    1    1    1  \n",
              "original     1    1    1  "
            ]
          },
          "metadata": {},
          "execution_count": 113
        }
      ]
    }
  ]
}